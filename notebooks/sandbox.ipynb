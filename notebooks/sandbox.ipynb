{
 "cells": [
  {
   "cell_type": "markdown",
   "metadata": {},
   "source": [
    "# Model Explorer\n",
    "This notebook demonstrates how to check the available models on a LiteLLM server. We'll use the OpenAI client library to interact with the LiteLLM API endpoint and list the models that are currently accessible.\n",
    "\n",
    "Key features:\n",
    "- Connect to local LiteLLM server\n",
    "- List available model IDs\n",
    "- Simple helper functions for model exploration\n"
   ]
  },
  {
   "cell_type": "code",
   "execution_count": 1,
   "metadata": {},
   "outputs": [],
   "source": [
    "from openai import OpenAI\n",
    "from dotenv import load_dotenv\n",
    "import os\n",
    "def list_model_ids(client: OpenAI) -> list[str]:\n",
    "    \"\"\"Returns a list of available model IDs.\"\"\"\n",
    "    models = client.models.list()\n",
    "    return [model.id for model in models.data]\n",
    "def print_model_ids(client: OpenAI):\n",
    "    model_ids = list_model_ids(client)\n",
    "    print(\"\\nAvailable models:\")\n",
    "    for model_id in sorted(model_ids):\n",
    "        print(f\"- {model_id}\")\n"
   ]
  },
  {
   "cell_type": "code",
   "execution_count": null,
   "metadata": {},
   "outputs": [
    {
     "ename": "",
     "evalue": "",
     "output_type": "error",
     "traceback": [
      "\u001b[1;31mRunning cells with '.venv (Python 3.11.7)' requires the ipykernel package.\n",
      "\u001b[1;31mRun the following command to install 'ipykernel' into the Python environment. \n",
      "\u001b[1;31mCommand: '/Users/tanujvasudeva/Documents/GitHub/screenpipe-python-client/.venv/bin/python -m pip install ipykernel -U --force-reinstall'"
     ]
    }
   ],
   "source": [
    "load_dotenv()\n",
    "client = OpenAI(os.getenv(\"SECRET_KEY\"), base_url=\"http://localhost:4000/v1\")\n",
    "print_model_ids(client)\n"
   ]
  },
  {
   "cell_type": "code",
   "execution_count": null,
   "metadata": {},
   "outputs": [],
   "source": []
  }
 ],
 "metadata": {
  "kernelspec": {
   "display_name": ".venv",
   "language": "python",
   "name": "python3"
  },
  "language_info": {
   "codemirror_mode": {
    "name": "ipython",
    "version": 3
   },
   "file_extension": ".py",
   "mimetype": "text/x-python",
   "name": "python",
   "nbconvert_exporter": "python",
   "pygments_lexer": "ipython3",
   "version": "3.11.7"
  }
 },
 "nbformat": 4,
 "nbformat_minor": 2
}
